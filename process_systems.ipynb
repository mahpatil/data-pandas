{
 "cells": [
  {
   "cell_type": "code",
   "execution_count": null,
   "metadata": {},
   "outputs": [],
   "source": [
    "import pandas as pd\n",
    "from pandas import ExcelWriter\n",
    "from pandas import ExcelFile\n",
    "import matplotlib.pyplot as plt"
   ]
  },
  {
   "cell_type": "code",
   "execution_count": null,
   "metadata": {},
   "outputs": [],
   "source": [
    "def splitDataFrameList(df,target_column,separator):\n",
    "    ''' df = dataframe to split,\n",
    "    target_column = the column containing the values to split\n",
    "    separator = the symbol used to perform the split\n",
    "    returns: a dataframe with each entry for the target column separated, with each element moved into a new row. \n",
    "    The values in the other columns are duplicated across the newly divided rows.\n",
    "    '''\n",
    "    def splitListToRows(row,row_accumulator,target_column,separator):\n",
    "        split_row = row[target_column].split(separator)\n",
    "        for s in split_row:\n",
    "            new_row = row.to_dict()\n",
    "            new_row[target_column] = s\n",
    "            row_accumulator.append(new_row)\n",
    "    new_rows = []\n",
    "    df.apply(splitListToRows,axis=1,args = (new_rows,target_column,separator))\n",
    "    new_df = pandas.DataFrame(new_rows)\n",
    "    return new_df"
   ]
  },
  {
   "cell_type": "code",
   "execution_count": null,
   "metadata": {},
   "outputs": [],
   "source": [
    "df = pd.read_excel('../../files/systemsexport.xlsx', sheet_name='Sheet0')\n",
    "products=df['ProdVer'].str.split('\\n')\n",
    "df['Prods'] = products"
   ]
  },
  {
   "cell_type": "code",
   "execution_count": null,
   "metadata": {},
   "outputs": [],
   "source": [
    "df"
   ]
  },
  {
   "cell_type": "code",
   "execution_count": null,
   "metadata": {},
   "outputs": [],
   "source": [
    "plt.figure();\n",
    "\n",
    "def plotDept(df):\n",
    "    dfDept = df.groupby(by='Dept')\n",
    "    dfDept.size().plot.bar(figsize=(20,10))\n",
    "    \n",
    "def plotCat(df):\n",
    "    dfCat = df.groupby(by='Cat')\n",
    "    dfCat.size().plot.bar(figsize=(20,10))"
   ]
  },
  {
   "cell_type": "code",
   "execution_count": null,
   "metadata": {},
   "outputs": [],
   "source": [
    "def plotDeptProds(df):\n",
    "    sw = df['Prods'].apply(pd.Series)\n",
    "    sw['ID'] = df['ID']\n",
    "    sw = sw.melt(id_vars='ID').dropna()\n",
    "    sw = sw.rename(columns={'value' : 'Product'})\n",
    "    dfSoftwares = pd.merge(df, sw, how='left', on='ID')\n",
    "    dfSoftwarePivot = dfSoftwares.groupby(['Dept', 'Product'])\n",
    "    #dfSoftwarePivot = dfSoftwares.pivot(index='Dept', columns='Product')\n",
    "    dfSoftwaresPivot = pd.DataFrame(dfSoftwarePivot.size().reset_index(name = \"Group_Count\"))\n",
    "    dfSoftwaresPivot1 = dfSoftwaresPivot.pivot(index='Dept', columns='Product', values='Group_Count')\n",
    "    #dfSoftwaresPivot.groupby(by=['Dept', 'Product']).size().plot.bar(stacked=True)\n",
    "    dfSoftwaresPivot1 = dfSoftwaresPivot1.fillna(0)\n",
    "    dfSoftwaresPivot1.plot.bar(stacked=True,figsize=(20,100))"
   ]
  },
  {
   "cell_type": "code",
   "execution_count": null,
   "metadata": {},
   "outputs": [],
   "source": [
    "plotDept(df)"
   ]
  },
  {
   "cell_type": "code",
   "execution_count": null,
   "metadata": {},
   "outputs": [],
   "source": [
    "plotCat(df)"
   ]
  },
  {
   "cell_type": "code",
   "execution_count": null,
   "metadata": {},
   "outputs": [],
   "source": [
    "plotDeptProds(df)"
   ]
  },
  {
   "cell_type": "code",
   "execution_count": null,
   "metadata": {},
   "outputs": [],
   "source": []
  }
 ],
 "metadata": {
  "kernelspec": {
   "display_name": "Python 3",
   "language": "python",
   "name": "python3"
  },
  "language_info": {
   "codemirror_mode": {
    "name": "ipython",
    "version": 3
   },
   "file_extension": ".py",
   "mimetype": "text/x-python",
   "name": "python",
   "nbconvert_exporter": "python",
   "pygments_lexer": "ipython3",
   "version": "3.7.0"
  }
 },
 "nbformat": 4,
 "nbformat_minor": 2
}
